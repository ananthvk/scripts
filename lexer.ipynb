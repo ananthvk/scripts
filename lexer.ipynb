{
 "cells": [
  {
   "cell_type": "code",
   "execution_count": 4,
   "id": "70b41141-d968-4b39-8d7f-fd21c2a8bd59",
   "metadata": {},
   "outputs": [],
   "source": [
    "class Simplexer(object):\n",
    "\n",
    "    def __init__(self, expression):\n",
    "        # Your code here (or elsewhere...)\n",
    "        pass\n",
    "    \n",
    "    def __iter__(self):\n",
    "        self\n",
    "                \n",
    "    def __next__(self):\n",
    "        passs\n"
   ]
  },
  {
   "cell_type": "code",
   "execution_count": 5,
   "id": "d664bb66-3ed1-471c-93b7-fdba1eb72ed6",
   "metadata": {},
   "outputs": [
    {
     "ename": "TypeError",
     "evalue": "iter() returned non-iterator of type 'NoneType'",
     "output_type": "error",
     "traceback": [
      "\u001b[1;31m---------------------------------------------------------------------------\u001b[0m",
      "\u001b[1;31mTypeError\u001b[0m                                 Traceback (most recent call last)",
      "\u001b[1;32m~\\AppData\\Local\\Temp/ipykernel_1340/2217982372.py\u001b[0m in \u001b[0;36m<module>\u001b[1;34m\u001b[0m\n\u001b[0;32m     12\u001b[0m \u001b[1;33m\u001b[0m\u001b[0m\n\u001b[0;32m     13\u001b[0m \u001b[1;33m\u001b[0m\u001b[0m\n\u001b[1;32m---> 14\u001b[1;33m \u001b[0mtester\u001b[0m\u001b[1;33m(\u001b[0m\u001b[1;34m\"x\"\u001b[0m\u001b[1;33m,\u001b[0m \u001b[1;33m[\u001b[0m\u001b[0mToken\u001b[0m\u001b[1;33m(\u001b[0m\u001b[1;34m\"x\"\u001b[0m\u001b[1;33m,\u001b[0m \u001b[1;34m\"identifier\"\u001b[0m\u001b[1;33m)\u001b[0m\u001b[1;33m]\u001b[0m\u001b[1;33m)\u001b[0m\u001b[1;33m\u001b[0m\u001b[1;33m\u001b[0m\u001b[0m\n\u001b[0m\u001b[0;32m     15\u001b[0m \u001b[0mtester\u001b[0m\u001b[1;33m(\u001b[0m\u001b[1;34m\"true\"\u001b[0m\u001b[1;33m,\u001b[0m \u001b[1;33m[\u001b[0m\u001b[0mToken\u001b[0m\u001b[1;33m(\u001b[0m\u001b[1;34m\"true\"\u001b[0m\u001b[1;33m,\u001b[0m \u001b[1;34m\"boolean\"\u001b[0m\u001b[1;33m)\u001b[0m\u001b[1;33m]\u001b[0m\u001b[1;33m)\u001b[0m\u001b[1;33m\u001b[0m\u001b[1;33m\u001b[0m\u001b[0m\n\u001b[0;32m     16\u001b[0m \u001b[0mtester\u001b[0m\u001b[1;33m(\u001b[0m\u001b[1;34m\"12345\"\u001b[0m\u001b[1;33m,\u001b[0m \u001b[1;33m[\u001b[0m\u001b[0mToken\u001b[0m\u001b[1;33m(\u001b[0m\u001b[1;34m\"12345\"\u001b[0m\u001b[1;33m,\u001b[0m \u001b[1;34m\"integer\"\u001b[0m\u001b[1;33m)\u001b[0m\u001b[1;33m]\u001b[0m\u001b[1;33m)\u001b[0m\u001b[1;33m\u001b[0m\u001b[1;33m\u001b[0m\u001b[0m\n",
      "\u001b[1;32m~\\AppData\\Local\\Temp/ipykernel_1340/2217982372.py\u001b[0m in \u001b[0;36mtester\u001b[1;34m(strng, tokenLst)\u001b[0m\n\u001b[0;32m      9\u001b[0m     \u001b[1;32mtry\u001b[0m\u001b[1;33m:\u001b[0m    \u001b[0msimplex\u001b[0m \u001b[1;33m=\u001b[0m \u001b[0mSimplexer\u001b[0m\u001b[1;33m(\u001b[0m\u001b[0mstrng\u001b[0m\u001b[1;33m)\u001b[0m\u001b[1;33m\u001b[0m\u001b[1;33m\u001b[0m\u001b[0m\n\u001b[0;32m     10\u001b[0m     \u001b[1;32mexcept\u001b[0m\u001b[1;33m:\u001b[0m \u001b[0msimplex\u001b[0m \u001b[1;33m=\u001b[0m \u001b[0mSimplexer\u001b[0m\u001b[1;33m.\u001b[0m\u001b[0msimplex\u001b[0m\u001b[1;33m(\u001b[0m\u001b[0mstrng\u001b[0m\u001b[1;33m)\u001b[0m\u001b[1;33m(\u001b[0m\u001b[1;33m)\u001b[0m            \u001b[1;31m# retrocompatibility with previous solutions\u001b[0m\u001b[1;33m\u001b[0m\u001b[1;33m\u001b[0m\u001b[0m\n\u001b[1;32m---> 11\u001b[1;33m     \u001b[1;32massert\u001b[0m \u001b[1;33m[\u001b[0m\u001b[0mt\u001b[0m \u001b[1;32mfor\u001b[0m \u001b[0mt\u001b[0m \u001b[1;32min\u001b[0m \u001b[0msimplex\u001b[0m\u001b[1;33m]\u001b[0m \u001b[1;33m==\u001b[0m \u001b[0mtokenLst\u001b[0m\u001b[1;33m\u001b[0m\u001b[1;33m\u001b[0m\u001b[0m\n\u001b[0m\u001b[0;32m     12\u001b[0m \u001b[1;33m\u001b[0m\u001b[0m\n\u001b[0;32m     13\u001b[0m \u001b[1;33m\u001b[0m\u001b[0m\n",
      "\u001b[1;31mTypeError\u001b[0m: iter() returned non-iterator of type 'NoneType'"
     ]
    }
   ],
   "source": [
    "class Token:\n",
    "    def __init__(self, value, typ):\n",
    "        self.value = value\n",
    "        self.typ = typ\n",
    "    def __repr__(self):\n",
    "        return f'Token<{self.typ} {self.value}>'\n",
    "        \n",
    "def tester(strng, tokenLst):\n",
    "    try:    simplex = Simplexer(strng)\n",
    "    except: simplex = Simplexer.simplex(strng)()            # retrocompatibility with previous solutions\n",
    "    assert [t for t in simplex] == tokenLst\n",
    "\n",
    "\n",
    "tester(\"x\", [Token(\"x\", \"identifier\")])\n",
    "tester(\"true\", [Token(\"true\", \"boolean\")])\n",
    "tester(\"12345\", [Token(\"12345\", \"integer\")])\n",
    "tester('\"String\"', [Token('\"String\"', \"string\")])\n",
    "tester(\"break\", [Token(\"break\", \"keyword\")])\n",
    "\n",
    "test_string = \"(1 + 2) - 5\"\n",
    "tokens = [\"(\", \"1\", \" \", \"+\", \" \", \"2\", \")\", \" \", \"-\", \" \", \"5\"]\n",
    "token_types = [\"operator\", \"integer\", \"whitespace\", \"operator\",\n",
    "               \"whitespace\", \"integer\", \"operator\", \"whitespace\",\n",
    "               \"operator\", \"whitespace\", \"integer\"]\n",
    "tester(test_string, [Token(a, b) for a, b in zip(tokens, token_types)])\n",
    "\n",
    "test_string = \"return x + 1\"\n",
    "tokens = [\"return\", \" \", \"x\", \" \", \"+\", \" \", \"1\"]\n",
    "token_types = [\"keyword\", \"whitespace\", \"identifier\", \"whitespace\", \"operator\", \"whitespace\", \"integer\"]\n",
    "tester(test_string, [Token(a, b) for a, b in zip(tokens, token_types)])\n"
   ]
  },
  {
   "cell_type": "code",
   "execution_count": 6,
   "id": "398df675-1879-430b-bb2a-15fe86afc3bb",
   "metadata": {},
   "outputs": [],
   "source": [
    "class Simplexer(object):\n",
    "\n",
    "    def __init__(self, expression):\n",
    "        self.expr = expression\n",
    "        self.charptr = 0\n",
    "        pass\n",
    "    \n",
    "    def __iter__(self):\n",
    "        return self\n",
    "                \n",
    "    def __next__(self):\n",
    "        st = ''\n",
    "        if self.charptr >= len(self.expr):\n",
    "            raise StopIteration\n",
    "        try:\n",
    "            while self.expr[self.charptr].isalpha():\n",
    "                st += self.expr[self.charptr]\n",
    "                self.charptr += 1\n",
    "        except IndexError as i:\n",
    "            return Token(st, \"variable\")"
   ]
  },
  {
   "cell_type": "code",
   "execution_count": 7,
   "id": "20697cd0-b919-4e72-b6d6-ba5596912b73",
   "metadata": {},
   "outputs": [],
   "source": [
    "s = Simplexer(\"hello\")"
   ]
  },
  {
   "cell_type": "code",
   "execution_count": 8,
   "id": "4810196c-2c00-4eb6-82ba-8d00541e8ad1",
   "metadata": {},
   "outputs": [
    {
     "data": {
      "text/plain": [
       "Token<variable hello>"
      ]
     },
     "execution_count": 8,
     "metadata": {},
     "output_type": "execute_result"
    }
   ],
   "source": [
    "next(s)"
   ]
  },
  {
   "cell_type": "code",
   "execution_count": 9,
   "id": "a753b0bb-dcab-466f-a4db-d3710d08ad58",
   "metadata": {},
   "outputs": [
    {
     "data": {
      "text/plain": [
       "False"
      ]
     },
     "execution_count": 9,
     "metadata": {},
     "output_type": "execute_result"
    }
   ],
   "source": [
    "' '.isalpha()"
   ]
  },
  {
   "cell_type": "code",
   "execution_count": 46,
   "id": "b7c95c2c-3084-4ba3-b29e-b33f74314dba",
   "metadata": {},
   "outputs": [
    {
     "data": {
      "text/plain": [
       "[Token<variable hello>]"
      ]
     },
     "execution_count": 46,
     "metadata": {},
     "output_type": "execute_result"
    }
   ],
   "source": [
    "[t for t in s]"
   ]
  },
  {
   "cell_type": "code",
   "execution_count": 12,
   "id": "d254a397-5e52-4444-a795-3826e63e82e6",
   "metadata": {},
   "outputs": [],
   "source": [
    "expr = '2x+3'\n",
    "def getterm(exp):\n",
    "    a = 1\n",
    "    chr_ptr = 0\n",
    "    if expr.startswith('-'):\n",
    "        a = -1\n",
    "        chr_ptr += 1\n",
    "    val = '1'\n",
    "    while exp[chr_ptr].isdigit():\n",
    "        val += expr[chr_ptr]\n",
    "        chr_ptr += 1\n",
    "    \n",
    "    return a*int(val)"
   ]
  },
  {
   "cell_type": "code",
   "execution_count": 13,
   "id": "5b6a070f-159d-4e40-b535-7266efb1c972",
   "metadata": {},
   "outputs": [
    {
     "data": {
      "text/plain": [
       "12"
      ]
     },
     "execution_count": 13,
     "metadata": {},
     "output_type": "execute_result"
    }
   ],
   "source": [
    "getterm(expr)"
   ]
  },
  {
   "cell_type": "code",
   "execution_count": 32,
   "id": "113b4adb-d85e-408e-8cdf-9acefa7ae4b9",
   "metadata": {},
   "outputs": [],
   "source": []
  },
  {
   "cell_type": "code",
   "execution_count": 33,
   "id": "a924d2b2-c1e7-4d31-b2a9-0e443abce3f1",
   "metadata": {},
   "outputs": [],
   "source": []
  },
  {
   "cell_type": "code",
   "execution_count": 34,
   "id": "2aead586-4bb8-403d-9805-f91b21a4159b",
   "metadata": {},
   "outputs": [],
   "source": []
  },
  {
   "cell_type": "code",
   "execution_count": 50,
   "id": "96c44efb-4ab2-4633-afdf-4c5dac95784c",
   "metadata": {},
   "outputs": [],
   "source": []
  },
  {
   "cell_type": "code",
   "execution_count": 231,
   "id": "b2948846-6176-411f-8be7-3df8867b344e",
   "metadata": {},
   "outputs": [],
   "source": [
    "import re\n",
    "import math\n",
    "\n",
    "regex = r'\\((-\\d*|\\d+)|([A-Za-z])(\\+|-)(\\d+)\\)\\^(\\d+)'\n",
    "pattern = re.compile(regex)\n",
    "def get_operands(expr):\n",
    "    matches = pattern.findall(expr)\n",
    "    #print(matches)\n",
    "    #print(len(matches))\n",
    "    if len(matches) == 2:\n",
    "        # a has been found\n",
    "        a = matches[0][0]\n",
    "        variable = matches[1][1]\n",
    "        sign = matches[1][2]\n",
    "        constant_term = matches[1][3]\n",
    "        power = matches[1][4]\n",
    "        #print(f'{a} {variable} {sign} {constant_term}')\n",
    "    \n",
    "    elif len(matches) == 1:\n",
    "        # a has not been found, keep it as 1\n",
    "        a = 1\n",
    "        variable = matches[0][1]\n",
    "        sign = matches[0][2]\n",
    "        constant_term = matches[0][3]\n",
    "        power = matches[0][4]\n",
    "        #print(f'{a} {variable} {sign} {constant_term}')\n",
    "    else:\n",
    "        raise ValueError\n",
    "    return {'a': int(a) if a!='-' else -1, 'var': variable, 'sign': sign, 'const' : int(constant_term), 'power': int(power), 'b': int(constant_term) if sign=='+' else -int(constant_term)}\n",
    "\n",
    "\n",
    "def expansion(operands, expr):\n",
    "    n = operands['power']\n",
    "    binomial = ''\n",
    "    \n",
    "    for k in range(n+1):\n",
    "        varpart = ''\n",
    "        const_term = math.comb(n, k) * operands[\"a\"]**(n-k) * operands[\"b\"]**k\n",
    "        constpart = ''\n",
    "        if (n-k) == 1:\n",
    "            varpart = operands['var']\n",
    "            \n",
    "        elif (n-k) != 0:\n",
    "            varpart = f'{operands[\"var\"]}^{n-k}'\n",
    "        \n",
    "        if const_term != 1 and varpart != '':\n",
    "            constpart = str(const_term)\n",
    "        #print(constpart,' ',varpart)\n",
    "        if varpart == '':\n",
    "            constpart = str(const_term)\n",
    "        simpexpr = constpart + varpart\n",
    "        binomial = binomial + ('+' if not simpexpr.startswith('-') and k!=0 else '') + simpexpr\n",
    "    return binomial\n",
    "\n",
    "def expand(expr):\n",
    "    return expansion(get_operands(expr), expr)"
   ]
  },
  {
   "cell_type": "code",
   "execution_count": 232,
   "id": "3c797038-f669-4146-be11-970d03dd053e",
   "metadata": {},
   "outputs": [
    {
     "data": {
      "text/html": [
       "<img src='https://wikimedia.org/api/rest_v1/media/math/render/svg/689f5d27fa52a8ff3f89bed50e7d6625d5c35aaa'></img>\n"
      ],
      "text/plain": [
       "<IPython.core.display.HTML object>"
      ]
     },
     "metadata": {},
     "output_type": "display_data"
    }
   ],
   "source": [
    "%%html\n",
    "<img src='https://wikimedia.org/api/rest_v1/media/math/render/svg/689f5d27fa52a8ff3f89bed50e7d6625d5c35aaa'></img>"
   ]
  },
  {
   "cell_type": "code",
   "execution_count": 233,
   "id": "a5473b84-da00-44cc-a5cc-2224f3726950",
   "metadata": {},
   "outputs": [
    {
     "data": {
      "text/plain": [
       "'625m^4+1500m^3+1350m^2+540m+81'"
      ]
     },
     "execution_count": 233,
     "metadata": {},
     "output_type": "execute_result"
    }
   ],
   "source": [
    "expansion(get_operands('(5m+3)^4'), '(5m+3)^4')"
   ]
  },
  {
   "cell_type": "code",
   "execution_count": 234,
   "id": "3ec18a47-2105-43d3-afc3-5dfab0f135fb",
   "metadata": {},
   "outputs": [],
   "source": [
    "import re\n",
    "import math\n",
    "\n",
    "regex = r'\\((-\\d*|\\d+)|([A-Za-z])(\\+|-)(\\d+)\\)\\^(\\d+)'\n",
    "pattern = re.compile(regex)\n",
    "def get_operands(expr):\n",
    "    matches = pattern.findall(expr)\n",
    "    #print(matches)\n",
    "    #print(len(matches))\n",
    "    if len(matches) == 2:\n",
    "        # a has been found\n",
    "        a = matches[0][0]\n",
    "        variable = matches[1][1]\n",
    "        sign = matches[1][2]\n",
    "        constant_term = matches[1][3]\n",
    "        power = matches[1][4]\n",
    "        #print(f'{a} {variable} {sign} {constant_term}')\n",
    "    \n",
    "    elif len(matches) == 1:\n",
    "        # a has not been found, keep it as 1\n",
    "        a = 1\n",
    "        variable = matches[0][1]\n",
    "        sign = matches[0][2]\n",
    "        constant_term = matches[0][3]\n",
    "        power = matches[0][4]\n",
    "        #print(f'{a} {variable} {sign} {constant_term}')\n",
    "    else:\n",
    "        raise ValueError\n",
    "    return {'a': int(a) if a!='-' else -1, 'var': variable, 'sign': sign, 'const' : int(constant_term), 'power': int(power), 'b': int(constant_term) if sign=='+' else -int(constant_term)}\n",
    "\n",
    "\n",
    "def expansion(operands, expr):\n",
    "    n = operands['power']\n",
    "    binomial = ''\n",
    "    \n",
    "    for k in range(n+1):\n",
    "        varpart = ''\n",
    "        const_term = math.comb(n, k) * operands[\"a\"]**(n-k) * operands[\"b\"]**k\n",
    "        constpart = ''\n",
    "        if (n-k) == 1:\n",
    "            varpart = operands['var']\n",
    "            \n",
    "        elif (n-k) != 0:\n",
    "            varpart = f'{operands[\"var\"]}^{n-k}'\n",
    "        \n",
    "        if abs(const_term) != 1  and varpart != '':\n",
    "            constpart = str(const_term)\n",
    "        if const_term == -1:\n",
    "            constpart = '-'\n",
    "        #print(constpart,' ',varpart)\n",
    "        if varpart == '':\n",
    "            constpart = str(const_term)\n",
    "        simpexpr = constpart + varpart\n",
    "        binomial = binomial + ('+' if not simpexpr.startswith('-') and k!=0 else '') + simpexpr\n",
    "    return binomial\n",
    "\n",
    "def expand(expr):\n",
    "    return expansion(get_operands(expr), expr)"
   ]
  },
  {
   "cell_type": "code",
   "execution_count": 239,
   "id": "d05286bd-ed62-4cb5-9049-987b1f10be2e",
   "metadata": {},
   "outputs": [
    {
     "name": "stdout",
     "output_type": "stream",
     "text": [
      "0^0^0      0\n",
      "0^0^1      1\n",
      "0^0^2      1\n",
      "0^0^3      1\n",
      "0^0^4      1\n",
      "0^0^5      1\n",
      "0^1^0      0\n",
      "0^1^1      0\n",
      "0^1^2      0\n",
      "0^1^3      0\n",
      "0^1^4      0\n",
      "0^1^5      0\n",
      "0^2^0      0\n",
      "0^2^1      0\n",
      "0^2^2      0\n",
      "0^2^3      0\n",
      "0^2^4      0\n",
      "0^2^5      0\n",
      "0^3^0      0\n",
      "0^3^1      0\n",
      "0^3^2      0\n",
      "0^3^3      0\n",
      "0^3^4      0\n",
      "0^3^5      0\n",
      "0^4^0      0\n",
      "0^4^1      0\n",
      "0^4^2      0\n",
      "0^4^3      0\n",
      "0^4^4      0\n",
      "0^4^5      0\n",
      "0^5^0      0\n",
      "0^5^1      0\n",
      "0^5^2      0\n",
      "0^5^3      0\n",
      "0^5^4      0\n",
      "0^5^5      0\n",
      "1^0^0      1\n",
      "1^0^1      1\n",
      "1^0^2      1\n",
      "1^0^3      1\n",
      "1^0^4      1\n",
      "1^0^5      1\n",
      "1^1^0      1\n",
      "1^1^1      1\n",
      "1^1^2      1\n",
      "1^1^3      1\n",
      "1^1^4      1\n",
      "1^1^5      1\n",
      "1^2^0      1\n",
      "1^2^1      1\n",
      "1^2^2      1\n",
      "1^2^3      1\n",
      "1^2^4      1\n",
      "1^2^5      1\n",
      "1^3^0      1\n",
      "1^3^1      1\n",
      "1^3^2      1\n",
      "1^3^3      1\n",
      "1^3^4      1\n",
      "1^3^5      1\n",
      "1^4^0      1\n",
      "1^4^1      1\n",
      "1^4^2      1\n",
      "1^4^3      1\n",
      "1^4^4      1\n",
      "1^4^5      1\n",
      "1^5^0      1\n",
      "1^5^1      1\n",
      "1^5^2      1\n",
      "1^5^3      1\n",
      "1^5^4      1\n",
      "1^5^5      1\n",
      "2^0^0      2\n",
      "2^0^1      1\n",
      "2^0^2      1\n",
      "2^0^3      1\n",
      "2^0^4      1\n",
      "2^0^5      1\n",
      "2^1^0      2\n",
      "2^1^1      2\n",
      "2^1^2      2\n",
      "2^1^3      2\n",
      "2^1^4      2\n",
      "2^1^5      2\n",
      "2^2^0      2\n",
      "2^2^1      4\n",
      "2^2^2      6\n",
      "2^2^3      6\n",
      "2^2^4      6\n",
      "2^2^5      6\n",
      "2^3^0      2\n",
      "2^3^1      8\n",
      "2^3^2      2\n",
      "2^3^3      8\n",
      "2^3^4      2\n",
      "2^3^5      8\n",
      "2^4^0      2\n",
      "2^4^1      6\n",
      "2^4^2      6\n",
      "2^4^3      6\n",
      "2^4^4      6\n",
      "2^4^5      6\n",
      "2^5^0      2\n",
      "2^5^1      2\n",
      "2^5^2      2\n",
      "2^5^3      2\n",
      "2^5^4      2\n",
      "2^5^5      2\n",
      "3^0^0      3\n",
      "3^0^1      1\n",
      "3^0^2      1\n",
      "3^0^3      1\n",
      "3^0^4      1\n",
      "3^0^5      1\n",
      "3^1^0      3\n",
      "3^1^1      3\n",
      "3^1^2      3\n",
      "3^1^3      3\n",
      "3^1^4      3\n",
      "3^1^5      3\n",
      "3^2^0      3\n",
      "3^2^1      9\n",
      "3^2^2      1\n",
      "3^2^3      1\n",
      "3^2^4      1\n",
      "3^2^5      1\n",
      "3^3^0      3\n",
      "3^3^1      7\n",
      "3^3^2      3\n",
      "3^3^3      7\n",
      "3^3^4      3\n",
      "3^3^5      7\n",
      "3^4^0      3\n",
      "3^4^1      1\n",
      "3^4^2      1\n",
      "3^4^3      1\n",
      "3^4^4      1\n",
      "3^4^5      1\n",
      "3^5^0      3\n",
      "3^5^1      3\n",
      "3^5^2      3\n",
      "3^5^3      3\n",
      "3^5^4      3\n",
      "3^5^5      3\n",
      "4^0^0      4\n",
      "4^0^1      1\n",
      "4^0^2      1\n",
      "4^0^3      1\n",
      "4^0^4      1\n",
      "4^0^5      1\n",
      "4^1^0      4\n",
      "4^1^1      4\n",
      "4^1^2      4\n",
      "4^1^3      4\n",
      "4^1^4      4\n",
      "4^1^5      4\n",
      "4^2^0      4\n",
      "4^2^1      6\n",
      "4^2^2      6\n",
      "4^2^3      6\n",
      "4^2^4      6\n",
      "4^2^5      6\n",
      "4^3^0      4\n",
      "4^3^1      4\n",
      "4^3^2      4\n",
      "4^3^3      4\n",
      "4^3^4      4\n",
      "4^3^5      4\n",
      "4^4^0      4\n",
      "4^4^1      6\n",
      "4^4^2      6\n",
      "4^4^3      6\n",
      "4^4^4      6\n",
      "4^4^5      6\n",
      "4^5^0      4\n",
      "4^5^1      4\n",
      "4^5^2      4\n",
      "4^5^3      4\n",
      "4^5^4      4\n",
      "4^5^5      4\n",
      "5^0^0      5\n",
      "5^0^1      1\n",
      "5^0^2      1\n",
      "5^0^3      1\n",
      "5^0^4      1\n",
      "5^0^5      1\n",
      "5^1^0      5\n",
      "5^1^1      5\n",
      "5^1^2      5\n",
      "5^1^3      5\n",
      "5^1^4      5\n",
      "5^1^5      5\n",
      "5^2^0      5\n",
      "5^2^1      5\n",
      "5^2^2      5\n",
      "5^2^3      5\n",
      "5^2^4      5\n",
      "5^2^5      5\n",
      "5^3^0      5\n",
      "5^3^1      5\n",
      "5^3^2      5\n",
      "5^3^3      5\n",
      "5^3^4      5\n",
      "5^3^5      5\n",
      "5^4^0      5\n",
      "5^4^1      5\n",
      "5^4^2      5\n",
      "5^4^3      5\n",
      "5^4^4      5\n",
      "5^4^5      5\n",
      "5^5^0      5\n",
      "5^5^1      5\n",
      "5^5^2      5\n",
      "5^5^3      5\n",
      "5^5^4      5\n",
      "5^5^5      5\n"
     ]
    }
   ],
   "source": [
    "for i in range(6):\n",
    "    for j in range(6):\n",
    "        for k in range(6):\n",
    "            print(f'{f\"{i}^{j}^{k}\": <10} {(\"%s\" %i**(j**k))[-1]}')"
   ]
  },
  {
   "cell_type": "code",
   "execution_count": null,
   "id": "efa39080-97e8-422b-b38e-f916227e1208",
   "metadata": {},
   "outputs": [],
   "source": []
  }
 ],
 "metadata": {
  "kernelspec": {
   "display_name": "Python 3 (ipykernel)",
   "language": "python",
   "name": "python3"
  },
  "language_info": {
   "codemirror_mode": {
    "name": "ipython",
    "version": 3
   },
   "file_extension": ".py",
   "mimetype": "text/x-python",
   "name": "python",
   "nbconvert_exporter": "python",
   "pygments_lexer": "ipython3",
   "version": "3.8.7"
  }
 },
 "nbformat": 4,
 "nbformat_minor": 5
}

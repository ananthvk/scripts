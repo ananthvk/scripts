{
 "cells": [
  {
   "cell_type": "code",
   "execution_count": 1,
   "id": "1e3631ee-ebef-4c61-a19a-f713d52b65d7",
   "metadata": {},
   "outputs": [],
   "source": [
    "import math\n",
    "def sieve(limit):\n",
    "    a = [True for i in range(limit)]#[True] * limit                       \n",
    "    a[0] = a[1] = False\n",
    "    for (i, isprime) in enumerate(a):\n",
    "        if i not in [2, 3]:\n",
    "            if not (i - ((i//6)*6) == 1 or i - (((i+1)//6)*6) == -1):\n",
    "                continue\n",
    "        if isprime:\n",
    "            yield i\n",
    "            for n in range(i*i, limit, i):   \n",
    "                a[n] = False\n",
    "    return a\n",
    "\n",
    "class Primes:\n",
    "    \n",
    "    @staticmethod\n",
    "    \n",
    "    def stream():\n",
    "        for i in sieve(5*(10**6)):\n",
    "            yield i"
   ]
  },
  {
   "cell_type": "code",
   "execution_count": 12,
   "id": "d9376218-98a5-41cc-989a-d5ca548d9559",
   "metadata": {},
   "outputs": [
    {
     "name": "stdout",
     "output_type": "stream",
     "text": [
      "84 ms ± 1.3 ms per loop (mean ± std. dev. of 7 runs, 10 loops each)\n"
     ]
    }
   ],
   "source": [
    "%timeit [i for i in sieve(100000)]"
   ]
  },
  {
   "cell_type": "code",
   "execution_count": 17,
   "id": "84451da0-3bb0-4cd5-9377-e881bfc18286",
   "metadata": {},
   "outputs": [],
   "source": [
    "s = Primes.stream()"
   ]
  },
  {
   "cell_type": "code",
   "execution_count": 31,
   "id": "552e123f-386f-4c34-9be7-584936fea458",
   "metadata": {},
   "outputs": [],
   "source": [
    "k = [next(s) for i in range(7000)]"
   ]
  },
  {
   "cell_type": "code",
   "execution_count": 32,
   "id": "a9026121-9f2a-4521-b094-5287c7408ce2",
   "metadata": {},
   "outputs": [],
   "source": [
    "del k"
   ]
  },
  {
   "cell_type": "code",
   "execution_count": null,
   "id": "304dc0e0-3aff-446d-96ed-99473307e1b9",
   "metadata": {},
   "outputs": [],
   "source": []
  },
  {
   "cell_type": "code",
   "execution_count": 33,
   "id": "7a0798a5-9c9b-485d-b9e4-ef534bb6b511",
   "metadata": {},
   "outputs": [
    {
     "data": {
      "text/plain": [
       "70849"
      ]
     },
     "execution_count": 33,
     "metadata": {},
     "output_type": "execute_result"
    }
   ],
   "source": [
    "next(s)"
   ]
  },
  {
   "cell_type": "code",
   "execution_count": null,
   "id": "90a007c1-a76d-469f-b97b-c1f61da7c5d1",
   "metadata": {},
   "outputs": [],
   "source": [
    "import math\n",
    "def sieve(limit):\n",
    "    a = [True for i in range(limit)]#[True] * limit                       \n",
    "    a[0] = a[1] = False\n",
    "    for (i, isprime) in enumerate(a):\n",
    "        if i not in [2, 3]:\n",
    "            if not (i - ((i//6)*6) == 1 or i - (((i+1)//6)*6) == -1):\n",
    "                continue\n",
    "        if isprime:\n",
    "            yield i\n",
    "            for n in range(i*i, limit, i):   \n",
    "                a[n] = False\n",
    "    return a\n",
    "\n",
    "class Primes:\n",
    "    \n",
    "    @staticmethod\n",
    "    \n",
    "    def stream():\n",
    "        for i in sieve(5*(10**6)):\n",
    "            yield i"
   ]
  }
 ],
 "metadata": {
  "kernelspec": {
   "display_name": "Python 3 (ipykernel)",
   "language": "python",
   "name": "python3"
  },
  "language_info": {
   "codemirror_mode": {
    "name": "ipython",
    "version": 3
   },
   "file_extension": ".py",
   "mimetype": "text/x-python",
   "name": "python",
   "nbconvert_exporter": "python",
   "pygments_lexer": "ipython3",
   "version": "3.8.7"
  }
 },
 "nbformat": 4,
 "nbformat_minor": 5
}

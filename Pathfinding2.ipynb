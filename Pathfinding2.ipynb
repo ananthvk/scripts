{
 "cells": [
  {
   "cell_type": "code",
   "execution_count": 39,
   "id": "b098d188-cd9a-4d60-962e-eac6163f6df6",
   "metadata": {},
   "outputs": [],
   "source": [
    "class PathFinder:\n",
    "    def __init__(self,loc_map):\n",
    "        self.loc_map = loc_map\n",
    "        self.grid = [[j for j in i if j!=' '] for i in loc_map.split('\\n')]\n",
    "        \n",
    "        # self.m is the number of rows\n",
    "        # self.n is the number of columns\n",
    "        self.m = len(self.grid)\n",
    "        self.n = len(self.grid[0])\n",
    "        \n",
    "        self.start = (0,0)\n",
    "        self.target = (self.m-1,self.n-1)\n",
    "        self.neighbour_cache = {}\n",
    "        self.visited = []\n",
    "        \n",
    "    def display(self):\n",
    "        for row in self.grid:\n",
    "            for char in row:\n",
    "                print(char,end=' ')\n",
    "            print()\n",
    "    \n",
    "    def bfs_path_exists(self):\n",
    "        outlying = [self.start]\n",
    "        self.visited = [self.start]\n",
    "        self.neighbour_cache = {}\n",
    "        if self.start == self.target:\n",
    "            return True\n",
    "        while outlying:\n",
    "            # Gets the adjacent nodes\n",
    "            node = outlying[-1]\n",
    "            outlying.pop()\n",
    "            #print(f'Current Node:{node}')\n",
    "            \n",
    "            # After getting that node, remove it as outlying and\n",
    "            # expand the area to its neighbours\n",
    "            neighbours = self.get_neighbours(*node)\n",
    "            #print(f'Neighbours:{neighbours}')\n",
    "            outlying += neighbours\n",
    "            if self.target in neighbours:\n",
    "                return True\n",
    "            self.visited += neighbours\n",
    "            #print('-'*30)\n",
    "        return False\n",
    "    def get_neighbours(self, row, column):\n",
    "        neighbours = []\n",
    "        neigh = self.neighbour_cache.get((row,column))\n",
    "        if neigh is None:\n",
    "            #print(row)\n",
    "            #print(column)\n",
    "            #print(self.n-1)\n",
    "            # Cache not found\n",
    "            if row < (self.m - 1):\n",
    "                neighbours += [(row + 1, column)]\n",
    "            if row > 0:\n",
    "                neighbours += [(row - 1, column)]\n",
    "            if column < (self.n - 1):\n",
    "                neighbours += [(row, column + 1)]\n",
    "            if column > 0:\n",
    "                neighbours += [(row, column - 1)]\n",
    "            #print(neighbours)\n",
    "            # Stores only valid neighbours, i.e no walls\n",
    "            self.neighbour_cache[(row, column)] =  list(sorted([n for n in neighbours if self.grid[n[0]][n[1]] == '.'], key= lambda node: abs(node[0]-self.target[0]) + abs(node[1] - self.target[1])))\n",
    "        return [i for i in self.neighbour_cache[(row,column)] if i not in self.visited]\n",
    "class Count:\n",
    "    x = 1\n",
    "def path_finder(a):\n",
    "    p = PathFinder(a)\n",
    "    Count.x += 1\n",
    "    print(Count.x, flush=True)\n",
    "    return p.bfs_path_exists()\n"
   ]
  },
  {
   "cell_type": "code",
   "execution_count": 40,
   "id": "a72ca09e-81dd-45f1-beea-88b9fd631744",
   "metadata": {},
   "outputs": [],
   "source": [
    "ab = '''. . . W W W . . . W . . W . . . . . . . . . W . . W W . . W W W . W . . . . . . W W W . . W . . W . . W . . W \n",
    ". W W W . W . W W . W . . . . W . . . W . W . . . W . . W . . . W . . . W . . W W W . . . . W . . W W . . . W \n",
    ". W . W . W W W . W W . . . W W W . . . W W . . . . . W . W W . . . . . W . . . . . W . . . . W . W . . W . . \n",
    ". W W W . . . . W . . . . . . . . . . . . . . . W . . . . . . W . W . . . W W W W . W . W W . . . W . W . . . \n",
    ". . . . . . W W . . . . W . . . . W . W . . W W . W . . . . . . W . . W . . . . . . . . . W . W . . . . . . . \n",
    ". . . . . . . . . . . W W . . . . . . . W . . . . . . . . W . . . W . W . . W . W . . . W . . . . . . . W . W \n",
    ". . . . . . . . . W . . W W . W W . . . . . W W . . . . . . . . . . . . . W W . . W W . . . . . . W W W . W W \n",
    "W . . W W . W . . . W . . W W W W . . . . W . . . W . . . . . . W . . . . W W W W W W W . W . . . . . . . . . \n",
    "W W . . W W . W W . . W . . W . W . . W . W . . . . . . . . . W . . . . W W W . . . W W . . W . W . . W . . . \n",
    "W W W . . . W W . W W . . W W . . . . . W . . W . . W W . . . W . . W . . W . W . . . . W W . . . . . W . . . \n",
    ". . . W . . . W . . . . W . . . W . . . . . . W . . . . . W . . . . . . . . W . W W . . . . . . . W . . . . . \n",
    "W . W . . W . . W . . . . . W . . . . W . . . . . . . W . W W . . . W . W W . . . W . W . . W . . . . W . . W \n",
    ". . . . . W . . W . . . . W . . W . . . . . . W . . . . W . W . . . . . . W . . W W W . W W . . W . W W . W W \n",
    "W . . . . . . . . W W W . W . W . . . . . . W W . . . . . W . . W . . W W . . . W . . . . . . . . . . W . . W \n",
    "W W . W . . . . W . . . . W . . . . . W . . . . . . . . W . . W . . W W . . . . W . W W W . . . . . . . . W . \n",
    ". . . . W W W . . W W . . . . . . . W . W . . . . . W . W . . . . . . . . . . . . W . W W . . . . W . . . W . \n",
    ". . . . W W . W . W W . . W . . . W . W . . . W . . . . . . W W . . W . W W . . . . . W W W W W . . W . . . W \n",
    ". . W W W . W . W W W W W W . . . W W . W . . . . W W W . . W . . W . . . . . W . . . . . . . . . . . . . . . \n",
    "W . . . W . . . . W W . . . W . W W . . . . . . W . . . W . . . . W W . . . . . . . W . W W W . W W . . W . . \n",
    ". . . W . . W . W . W W . . . . . W W . . . . . . W W W . . . . W W . . . . . . . W . . . W . . . . W W W . . \n",
    ". . W W . . . . . . . . . . W . . . . . . . . . . . . W . W . W . . W . . . . . . . . W W W . . . W . . W . . \n",
    ". . W W . . . W . . W . W W W . W . . . . . . W . . . . . . . . . W . . . . . . . W W W . . W . W . W W W . . \n",
    "W . . W . . . . . . . . . . . W . . W . . . . . . W W . W . W . . . W . . . . . . W W . . W . . . . W . W W W \n",
    "W W . . W W W . . . W . . . . W . W . W . . . . . . . . . W . . W . . . . . . W . . W . . . . . W . . . . . W \n",
    "W W . W . . . . . . W . . W . W W W . W . . W W W . . . . . . W . . . . . . W . . W W . . . . . . . W . . . W \n",
    "W . W . W . W . . . . . . . W W . . . . . . . . . . . W W . . . . W W . . . W W . W . . . . W W . . . W . . W \n",
    ". . . . . . W W . W . . W . . . . W W . . W . . . . . . W W . . . . . . . W W . W . W . . . W . W W . . W . W \n",
    ". . . . . . . . . . . . . . . W . . W W . . W . . . W . . W . W . . . . W W W . . . . W W . . W . . W W . . . \n",
    ". . . W . . W . . . . . . . . . W W . W . W . W . W . W W W W . . . W . . W . . W W . W W . . . . . . . . . . \n",
    ". W . . W . W W W . W . . . W . W . . . . . . . . . . . W W W . . . . . . W W W . . . W W . . . W . W . W . . \n",
    ". . . W . W W . W . W W . . W . . . W . W W . . W . . . . . . . . . . . W . . W . . W . W . . . W . . . W W W \n",
    ". W W W . . . . . . . W . W . W W . W . . . . . . . . W W . . . . . . . W . . . . . W W . . . W W W . W W . W \n",
    ". . W W W W W . . . . . . . . . W . . . . . . . W . . . W W W . . W . . . . . . . . . . . W W . W W W . . . W \n",
    ". . . W . . . . . W . W W . . . . . . W W . W . . W . . W . . . . W . . . . W . . . . W . . W . . . . . . W . \n",
    ". . . . W W W W . . . . . W . . . W W . W W . . . . . . W . W W W . . . . . . . . W . . . . . . . W W . W . . \n",
    ". . W . . . W . . W W . . . . W W . . . . . . . . . . . . . . . . . . . . . . . . W . . . W . . W W W W . W . \n",
    ". . . . W . . . . . . W . . W . . . . . . W . . W . . W W . . . . . . . W W W . . . W . . W . . . W W . . . W \n",
    "W . . . . . . . W . . . . . . . . . . W . . . W W . . . . . . . . W . W . . . . . W . . . . . . . . . W . . . \n",
    ". W . . . . . W W . . . . W W W . . . W . . W . . . W . W . . . . . . . . W W . . . W . . . . . W . . . . . W \n",
    ". . W . . . . . . . . . . . . W . W . . . . . . . . . . . W . . W W W . . W . . W . . . . W . . . W . . . . . \n",
    ". . . W . . . W W . . . . . . W W . W W . . . . W . . . W W W . . W . . W W . . W . . . . . . W W . . . W . . \n",
    ". . . . . W W . . W . . . . . . W W . W . . . W . W . . . . . W W W . W . W W . . . W W . . . W W W W . . . . \n",
    "W . . . . . . . . . W . . . . W . W . . W . W . . . . . . . . . . . . W W . W . . W . . W W . . . W . W . . . \n",
    "W W W . W . W . W . . . W W W . . . . . . . . W . . W . W W . . . . W . . . . W . . W W . . . . . . . . W . . \n",
    "W . . . . . W . . W . . . . . . . . W . . . . . . . . . . . W . W W W . . . W W . . . . W . . . W W W . W W . \n",
    ". . W . . W . W . . . W . . . . . W . W . . . . W . W W W W . . . . W . . . . W W . . . . . W . . . . . . . . \n",
    "W W . . . W . . . . . W . . W . W . W . . . . . . W W W . . . . W W W . . . . . . . . W . . . . . . . . W . W \n",
    ". . . . . W . . W . . . W W . W . . . . W . . . . . . . . . . . . W W W . W . . . W W . . . W . . . W . . . W \n",
    "W . . . W W . W . . W . . . . W . . . W . . . W W . W . . . W . W . . W W . . . W . . . W . W . . . W . . . . \n",
    "W . . . . . . W . . W . . . . . . . . . W . W W . . W . . W . . . . . . W . . . W W W . W . . W . . . . . W W \n",
    ". . . W W . W . . W . W W W W . . . . . W W . . . . W W . . . W . . . W W . W . W W . W . . . . . . . . W . . \n",
    ". . . . . . . . . . W . . . W . . W . . W . W . . . . . . . . W W . . . . . W . . W W . W . . W W . . . . . W \n",
    ". W . . W . . W . . . W W . . W . . . W W . . . . . W . . W . W . . W . . . . . . W . . W . . . W . W . . . W \n",
    ". W . W . . . . W . . . . W . . . W . . W . . . . . . W . . . . . W . W . . W . W W . . . W . W . . W . . W W \n",
    ". . . . W . . . . W . . . . . . . W . . W W W W . . W . W . W . W . W . . W . . . W . W W W W . . W W . . . . '''"
   ]
  },
  {
   "cell_type": "code",
   "execution_count": 42,
   "id": "3b9f1607-ab66-4892-8a10-cf1de2f48eb2",
   "metadata": {},
   "outputs": [
    {
     "data": {
      "text/plain": [
       "True"
      ]
     },
     "execution_count": 42,
     "metadata": {},
     "output_type": "execute_result"
    }
   ],
   "source": [
    "p = PathFinder(ab)\n",
    "#p.display()\n",
    "p.bfs_path_exists()\n",
    "\n"
   ]
  },
  {
   "cell_type": "code",
   "execution_count": 43,
   "id": "934b8c03-c879-4589-a870-8af005f9f6f2",
   "metadata": {},
   "outputs": [
    {
     "name": "stdout",
     "output_type": "stream",
     "text": [
      "143 ms ± 6.58 ms per loop (mean ± std. dev. of 7 runs, 10 loops each)\n"
     ]
    }
   ],
   "source": [
    "p = PathFinder(ab)\n",
    "%timeit p.bfs_path_exists()"
   ]
  },
  {
   "cell_type": "code",
   "execution_count": 29,
   "id": "fdcbcaad-fa37-49bf-adee-b8fe2e29dce8",
   "metadata": {},
   "outputs": [
    {
     "data": {
      "text/plain": [
       "False"
      ]
     },
     "execution_count": 29,
     "metadata": {},
     "output_type": "execute_result"
    }
   ],
   "source": [
    "(2,2) in p.visited"
   ]
  },
  {
   "cell_type": "code",
   "execution_count": 158,
   "id": "ad5be0de-a2a0-407c-a715-8615c3804468",
   "metadata": {},
   "outputs": [
    {
     "data": {
      "text/plain": [
       "True"
      ]
     },
     "execution_count": 158,
     "metadata": {},
     "output_type": "execute_result"
    }
   ],
   "source": [
    "a='''.W... \n",
    ".W... \n",
    ".W.W. \n",
    "...W. \n",
    "...W.'''\n",
    "\n",
    "#p.display()\n",
    "a = '.'\n",
    "p = PathFinder(a)\n",
    "p.bfs_path_exists()\n"
   ]
  },
  {
   "cell_type": "code",
   "execution_count": 145,
   "id": "34539702-ac5b-4003-95bb-f36d5558f45e",
   "metadata": {},
   "outputs": [
    {
     "data": {
      "text/plain": [
       "[(1, 0)]"
      ]
     },
     "execution_count": 145,
     "metadata": {},
     "output_type": "execute_result"
    }
   ],
   "source": [
    "p.get_neighbours(0,0)"
   ]
  },
  {
   "cell_type": "code",
   "execution_count": 154,
   "id": "74ddebd8-b9cc-46ef-b7c0-14dc6d749ed2",
   "metadata": {},
   "outputs": [
    {
     "data": {
      "text/plain": [
       "(0, 0)"
      ]
     },
     "execution_count": 154,
     "metadata": {},
     "output_type": "execute_result"
    }
   ],
   "source": [
    "p.start"
   ]
  },
  {
   "cell_type": "code",
   "execution_count": null,
   "id": "aafd57a7-cf16-4ebc-9a52-9920a84f297b",
   "metadata": {},
   "outputs": [],
   "source": []
  },
  {
   "cell_type": "code",
   "execution_count": 148,
   "id": "74b1f4a3-74b3-42a8-b299-d3ec5cece89c",
   "metadata": {},
   "outputs": [
    {
     "data": {
      "text/plain": [
       "5"
      ]
     },
     "execution_count": 148,
     "metadata": {},
     "output_type": "execute_result"
    }
   ],
   "source": [
    "p.n"
   ]
  },
  {
   "cell_type": "code",
   "execution_count": 149,
   "id": "ae5b3bcd-b5a2-454d-9e6c-d9a081782088",
   "metadata": {},
   "outputs": [
    {
     "data": {
      "text/plain": [
       "[['.', 'W', '.', '.', '.'],\n",
       " ['.', 'W', '.', '.', '.'],\n",
       " ['.', 'W', '.', 'W', '.'],\n",
       " ['.', '.', '.', 'W', '.'],\n",
       " ['.', '.', '.', 'W', '.']]"
      ]
     },
     "execution_count": 149,
     "metadata": {},
     "output_type": "execute_result"
    }
   ],
   "source": [
    "p.grid"
   ]
  },
  {
   "cell_type": "code",
   "execution_count": null,
   "id": "fbe36dcc-056c-46c1-b704-6a0179e2812d",
   "metadata": {},
   "outputs": [],
   "source": []
  },
  {
   "cell_type": "code",
   "execution_count": 2,
   "id": "b45741e6-2cd9-49de-b5ac-c5257807c6d4",
   "metadata": {},
   "outputs": [
    {
     "data": {
      "text/plain": [
       "{0: [1], 1: [], 2: [1, 3], 3: [], 4: [3, 5], 5: [0, 5]}"
      ]
     },
     "execution_count": 2,
     "metadata": {},
     "output_type": "execute_result"
    }
   ],
   "source": [
    "matrix = [\n",
    "[0,1,0,0,0,0],\n",
    "[0,0,0,0,0,0],\n",
    "[0,1,0,1,0,0],\n",
    "[0,0,0,0,0,0],\n",
    "[0,0,0,1,0,1],\n",
    "[1,0,0,0,0,1]\n",
    "]\n",
    "\n",
    "{i: [j for j, adjacent in enumerate(row) if adjacent] for i, row in enumerate(matrix)}"
   ]
  },
  {
   "cell_type": "code",
   "execution_count": null,
   "id": "1c9a3522-5d25-496d-8889-f6bd7dcd0f83",
   "metadata": {},
   "outputs": [],
   "source": []
  }
 ],
 "metadata": {
  "kernelspec": {
   "display_name": "Python 3 (ipykernel)",
   "language": "python",
   "name": "python3"
  },
  "language_info": {
   "codemirror_mode": {
    "name": "ipython",
    "version": 3
   },
   "file_extension": ".py",
   "mimetype": "text/x-python",
   "name": "python",
   "nbconvert_exporter": "python",
   "pygments_lexer": "ipython3",
   "version": "3.8.7"
  }
 },
 "nbformat": 4,
 "nbformat_minor": 5
}

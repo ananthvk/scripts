{
 "cells": [
  {
   "cell_type": "code",
   "execution_count": 1,
   "id": "0553f5e4-b293-45dd-b048-9f20568aaf9c",
   "metadata": {},
   "outputs": [],
   "source": [
    "def partition(n):\n",
    "    if n == 1 or n == 0:\n",
    "        return 1"
   ]
  },
  {
   "cell_type": "code",
   "execution_count": 2,
   "id": "4875b894-4582-4cb9-85a7-436ae0180c62",
   "metadata": {},
   "outputs": [
    {
     "data": {
      "text/plain": [
       "1"
      ]
     },
     "execution_count": 2,
     "metadata": {},
     "output_type": "execute_result"
    }
   ],
   "source": [
    "partition(0)\n"
   ]
  },
  {
   "cell_type": "code",
   "execution_count": 6,
   "id": "af47ed19-37f9-434d-8379-c6ac11c7f473",
   "metadata": {},
   "outputs": [
    {
     "data": {
      "text/html": [
       "<img src=\"https://wikimedia.org/api/rest_v1/media/math/render/svg/372a9d4b8378cd2b51d03d7e3aec77fba641b19c\"></img>\n"
      ],
      "text/plain": [
       "<IPython.core.display.HTML object>"
      ]
     },
     "metadata": {},
     "output_type": "display_data"
    }
   ],
   "source": [
    "%%html\n",
    "<img src=\"https://wikimedia.org/api/rest_v1/media/math/render/svg/372a9d4b8378cd2b51d03d7e3aec77fba641b19c\"></img>"
   ]
  },
  {
   "cell_type": "code",
   "execution_count": 8,
   "id": "c378ccc6-42fa-4064-b34b-6bce64b4eb97",
   "metadata": {},
   "outputs": [],
   "source": [
    "def p(n):\n",
    "    if n == 0 or n == 1:\n",
    "        return 1\n",
    "    return (-1)**(k-1)*p*(n-9*k)"
   ]
  },
  {
   "cell_type": "code",
   "execution_count": 9,
   "id": "55a3fd17-06b5-499d-b6f5-368a28e355c3",
   "metadata": {},
   "outputs": [
    {
     "ename": "NameError",
     "evalue": "name 'k' is not defined",
     "output_type": "error",
     "traceback": [
      "\u001b[1;31m---------------------------------------------------------------------------\u001b[0m",
      "\u001b[1;31mNameError\u001b[0m                                 Traceback (most recent call last)",
      "\u001b[1;32m~\\AppData\\Local\\Temp/ipykernel_324/6133669.py\u001b[0m in \u001b[0;36m<module>\u001b[1;34m\u001b[0m\n\u001b[1;32m----> 1\u001b[1;33m \u001b[0mp\u001b[0m\u001b[1;33m(\u001b[0m\u001b[1;36m5\u001b[0m\u001b[1;33m)\u001b[0m\u001b[1;33m\u001b[0m\u001b[1;33m\u001b[0m\u001b[0m\n\u001b[0m",
      "\u001b[1;32m~\\AppData\\Local\\Temp/ipykernel_324/3765020786.py\u001b[0m in \u001b[0;36mp\u001b[1;34m(n)\u001b[0m\n\u001b[0;32m      2\u001b[0m     \u001b[1;32mif\u001b[0m \u001b[0mn\u001b[0m \u001b[1;33m==\u001b[0m \u001b[1;36m0\u001b[0m \u001b[1;32mor\u001b[0m \u001b[0mn\u001b[0m \u001b[1;33m==\u001b[0m \u001b[1;36m1\u001b[0m\u001b[1;33m:\u001b[0m\u001b[1;33m\u001b[0m\u001b[1;33m\u001b[0m\u001b[0m\n\u001b[0;32m      3\u001b[0m         \u001b[1;32mreturn\u001b[0m \u001b[1;36m1\u001b[0m\u001b[1;33m\u001b[0m\u001b[1;33m\u001b[0m\u001b[0m\n\u001b[1;32m----> 4\u001b[1;33m     \u001b[1;32mreturn\u001b[0m \u001b[1;33m(\u001b[0m\u001b[1;33m-\u001b[0m\u001b[1;36m1\u001b[0m\u001b[1;33m)\u001b[0m\u001b[1;33m**\u001b[0m\u001b[1;33m(\u001b[0m\u001b[0mk\u001b[0m\u001b[1;33m-\u001b[0m\u001b[1;36m1\u001b[0m\u001b[1;33m)\u001b[0m\u001b[1;33m*\u001b[0m\u001b[0mp\u001b[0m\u001b[1;33m*\u001b[0m\u001b[1;33m(\u001b[0m\u001b[0mn\u001b[0m\u001b[1;33m-\u001b[0m\u001b[1;36m9\u001b[0m\u001b[1;33m*\u001b[0m\u001b[0mk\u001b[0m\u001b[1;33m)\u001b[0m\u001b[1;33m\u001b[0m\u001b[1;33m\u001b[0m\u001b[0m\n\u001b[0m",
      "\u001b[1;31mNameError\u001b[0m: name 'k' is not defined"
     ]
    }
   ],
   "source": [
    "p(5)"
   ]
  },
  {
   "cell_type": "code",
   "execution_count": 25,
   "id": "a759579b-32b7-485b-bbd4-cf5f7549a9f1",
   "metadata": {},
   "outputs": [],
   "source": [
    "memory = {}\n",
    "def p(n):\n",
    "    if memory.get(n) is not None:\n",
    "        return memory[n]\n",
    "    sums = 0\n",
    "    diff = 1\n",
    "    delta = 1\n",
    "    nval = n\n",
    "    if  n < 0:\n",
    "        return 0\n",
    "    if n == 0:\n",
    "        return 1\n",
    "\n",
    "    while n >= 0:\n",
    "        if diff %2 != 0:\n",
    "            sums += p(n-delta) + p(n-(delta + diff))\n",
    "        else:\n",
    "            sums = sums - (p(n-delta) + p(n-(delta + diff)))\n",
    "        n = n - (delta + diff)\n",
    "        delta += 2\n",
    "        diff += 1\n",
    "    memory[nval] = sums\n",
    "    return sums\n"
   ]
  },
  {
   "cell_type": "code",
   "execution_count": 32,
   "id": "1da57675-2834-43ae-92ef-6b64b289dfe6",
   "metadata": {},
   "outputs": [
    {
     "data": {
      "text/plain": [
       "[1,\n",
       " 1,\n",
       " 2,\n",
       " 3,\n",
       " 5,\n",
       " 7,\n",
       " 11,\n",
       " 15,\n",
       " 22,\n",
       " 30,\n",
       " 42,\n",
       " 56,\n",
       " 77,\n",
       " 101,\n",
       " 135,\n",
       " 176,\n",
       " 231,\n",
       " 297,\n",
       " 385,\n",
       " 490,\n",
       " 627,\n",
       " 792,\n",
       " 1002,\n",
       " 1255,\n",
       " 1575,\n",
       " 1958,\n",
       " 2436,\n",
       " 3010,\n",
       " 3718,\n",
       " 4565,\n",
       " 5604,\n",
       " 6842,\n",
       " 8349,\n",
       " 10143,\n",
       " 12310,\n",
       " 14883,\n",
       " 17977,\n",
       " 21637,\n",
       " 26015,\n",
       " 31185,\n",
       " 37338,\n",
       " 44583,\n",
       " 53174,\n",
       " 63261,\n",
       " 75175,\n",
       " 89134,\n",
       " 105558,\n",
       " 124754,\n",
       " 147273,\n",
       " 173525,\n",
       " 204226,\n",
       " 239943,\n",
       " 281589,\n",
       " 329931,\n",
       " 386155,\n",
       " 451276,\n",
       " 526823,\n",
       " 614154,\n",
       " 715220,\n",
       " 831820,\n",
       " 966467,\n",
       " 1121505,\n",
       " 1300156,\n",
       " 1505499,\n",
       " 1741630,\n",
       " 2012558,\n",
       " 2323520,\n",
       " 2679689,\n",
       " 3087735,\n",
       " 3554345,\n",
       " 4087968,\n",
       " 4697205,\n",
       " 5392783,\n",
       " 6185689,\n",
       " 7089500,\n",
       " 8118264,\n",
       " 9289091,\n",
       " 10619863,\n",
       " 12132164,\n",
       " 13848650,\n",
       " 15796476,\n",
       " 18004327,\n",
       " 20506255,\n",
       " 23338469,\n",
       " 26543660,\n",
       " 30167357,\n",
       " 34262962,\n",
       " 38887673,\n",
       " 44108109,\n",
       " 49995925,\n",
       " 56634173,\n",
       " 64112359,\n",
       " 72533807,\n",
       " 82010177,\n",
       " 92669720,\n",
       " 104651419,\n",
       " 118114304,\n",
       " 133230930,\n",
       " 150198136,\n",
       " 169229875]"
      ]
     },
     "execution_count": 32,
     "metadata": {},
     "output_type": "execute_result"
    }
   ],
   "source": [
    "[p(i) for i in range(100)]"
   ]
  },
  {
   "cell_type": "code",
   "execution_count": 27,
   "id": "a1a9b191-a5d6-43cc-8dc1-c8c6574729fb",
   "metadata": {},
   "outputs": [
    {
     "data": {
      "text/plain": [
       "{1: 1, 2: 2, 3: 3, 4: 5, 5: 7, 6: 11, 7: 15, 8: 22, 9: 30}"
      ]
     },
     "execution_count": 27,
     "metadata": {},
     "output_type": "execute_result"
    }
   ],
   "source": [
    "memory"
   ]
  },
  {
   "cell_type": "code",
   "execution_count": null,
   "id": "2b4cdec7-1bb2-450c-9309-127c8b6b3a27",
   "metadata": {},
   "outputs": [],
   "source": []
  }
 ],
 "metadata": {
  "kernelspec": {
   "display_name": "Python 3 (ipykernel)",
   "language": "python",
   "name": "python3"
  },
  "language_info": {
   "codemirror_mode": {
    "name": "ipython",
    "version": 3
   },
   "file_extension": ".py",
   "mimetype": "text/x-python",
   "name": "python",
   "nbconvert_exporter": "python",
   "pygments_lexer": "ipython3",
   "version": "3.8.7"
  }
 },
 "nbformat": 4,
 "nbformat_minor": 5
}
